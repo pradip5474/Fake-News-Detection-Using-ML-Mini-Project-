{
  "nbformat": 4,
  "nbformat_minor": 0,
  "metadata": {
    "colab": {
      "provenance": [],
      "toc_visible": true
    },
    "kernelspec": {
      "name": "python3",
      "display_name": "Python 3"
    },
    "language_info": {
      "name": "python"
    }
  },
  "cells": [
    {
      "cell_type": "code",
      "execution_count": 8,
      "metadata": {
        "colab": {
          "base_uri": "https://localhost:8080/"
        },
        "id": "cGJgcJHvwVIo",
        "outputId": "558de7a4-83d0-420b-e4e0-c156f39f10f3"
      },
      "outputs": [
        {
          "output_type": "stream",
          "name": "stderr",
          "text": [
            "[nltk_data] Downloading package stopwords to /root/nltk_data...\n",
            "[nltk_data]   Package stopwords is already up-to-date!\n"
          ]
        },
        {
          "output_type": "stream",
          "name": "stdout",
          "text": [
            "Fake News Shape: (1529, 4)\n",
            "True News Shape: (1575, 4)\n",
            "\n",
            "--- Classification Report ---\n",
            "              precision    recall  f1-score   support\n",
            "\n",
            "           0       0.91      0.03      0.06       324\n",
            "           1       0.49      1.00      0.65       297\n",
            "\n",
            "    accuracy                           0.49       621\n",
            "   macro avg       0.70      0.51      0.36       621\n",
            "weighted avg       0.71      0.49      0.34       621\n",
            "\n",
            "Accuracy: 0.49\n"
          ]
        }
      ],
      "source": [
        "import pandas as pd\n",
        "import numpy as np\n",
        "import string\n",
        "import nltk\n",
        "from nltk.corpus import stopwords\n",
        "from sklearn.model_selection import train_test_split\n",
        "from sklearn.linear_model import LogisticRegression\n",
        "from sklearn.feature_extraction.text import TfidfVectorizer\n",
        "from sklearn.metrics import classification_report, accuracy_score\n",
        "import csv  # Required for quoting option\n",
        "\n",
        "# Download stopwords if not present\n",
        "nltk.download('stopwords')\n",
        "#upload\n",
        "fake = pd.read_csv('Fake.csv', on_bad_lines='skip', quoting=csv.QUOTE_NONE, encoding='utf-8')\n",
        "true = pd.read_csv('True.csv', on_bad_lines='skip', quoting=csv.QUOTE_NONE, encoding='utf-8')\n",
        "\n",
        "# Print shapes to confirm loading\n",
        "print(\"Fake News Shape:\", fake.shape)\n",
        "print(\"True News Shape:\", true.shape)\n",
        "\n",
        "\n",
        "# Combine the datasets\n",
        "fake['label'] = 0\n",
        "true['label'] = 1\n",
        "data = pd.concat([fake, true], axis=0).reset_index(drop=True)\n",
        "\n",
        "# Fill missing values in 'title' or 'text' with a placeholder\n",
        "data['title'] = data['title'].fillna('')\n",
        "data['text'] = data['text'].fillna('')\n",
        "\n",
        "\n",
        "# Combine title and text columns\n",
        "data['text'] = data['title'] + \" \" + data['text']\n",
        "\n",
        "# Ensure 'text' is string type\n",
        "data['text'] = data['text'].astype(str)\n",
        "\n",
        "# Preprocessing function\n",
        "import string\n",
        "from nltk.corpus import stopwords\n",
        "stop_words = set(stopwords.words('english'))\n",
        "\n",
        "def clean_text(text):\n",
        "    text = text.lower()\n",
        "    text = ''.join([char for char in text if char not in string.punctuation])\n",
        "    words = text.split()\n",
        "    words = [word for word in words if word not in stop_words]\n",
        "    return ' '.join(words)\n",
        "\n",
        "# Apply preprocessing\n",
        "data['text'] = data['text'].apply(clean_text)\n",
        "\n",
        "# Remove rows where 'text' is empty after preprocessing\n",
        "data = data[data['text'] != '']\n",
        "print(f\"\\nShape after removing empty text rows: {data.shape}\")\n",
        "\n",
        "\n",
        "# Define X and y\n",
        "X = data['text']\n",
        "y = data['label']\n",
        "\n",
        "# Ready for vectorization and modeling\n",
        "\n",
        "\n",
        "# Vectorize text\n",
        "vectorizer = TfidfVectorizer(max_features=5000)\n",
        "X_vectorized = vectorizer.fit_transform(X)\n",
        "\n",
        "# Train-test split\n",
        "X_train, X_test, y_train, y_test = train_test_split(X_vectorized, y, test_size=0.2, random_state=42)\n",
        "\n",
        "# Train logistic regression model\n",
        "model = LogisticRegression()\n",
        "model.fit(X_train, y_train)\n",
        "\n",
        "# Predict and evaluate\n",
        "y_pred = model.predict(X_test)\n",
        "\n",
        "print(\"\\n--- Classification Report ---\")\n",
        "print(classification_report(y_test, y_pred))\n",
        "print(f\"Accuracy: {accuracy_score(y_test, y_pred):.2f}\")"
      ]
    }
  ]
}